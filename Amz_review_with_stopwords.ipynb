{
 "cells": [
  {
   "cell_type": "code",
   "execution_count": 1,
   "id": "corrected-texas",
   "metadata": {},
   "outputs": [],
   "source": [
    "# YOU DO NOT NEED TO RUN THIS CELL UNLESS YOU HAVE\n",
    "# RECENTLY OPENED THIS NOTEBOOK OR RESTARTED THE KERNEL:\n",
    "\n",
    "import numpy as np\n",
    "import pandas as pd\n",
    "\n",
    "# insert path of the review file below\n",
    "df = pd.read_csv('path', sep='\\t')\n",
    "df.dropna(inplace=True)\n",
    "blanks = []\n",
    "for i,lb,rv in df.itertuples():\n",
    "    if type(rv)==str:\n",
    "        if rv.isspace():\n",
    "            blanks.append(i)\n",
    "df.drop(blanks, inplace=True)\n",
    "from sklearn.model_selection import train_test_split\n",
    "X = df['review']\n",
    "y = df['label']\n",
    "X_train, X_test, y_train, y_test = train_test_split(X, y, test_size=0.33, random_state=42)\n",
    "\n",
    "from sklearn.pipeline import Pipeline\n",
    "from sklearn.feature_extraction.text import TfidfVectorizer\n",
    "from sklearn.naive_bayes import MultinomialNB\n",
    "from sklearn.svm import LinearSVC\n",
    "from sklearn import metrics"
   ]
  },
  {
   "cell_type": "markdown",
   "id": "designed-wisconsin",
   "metadata": {},
   "source": [
    "# Stopwords"
   ]
  },
  {
   "cell_type": "code",
   "execution_count": 3,
   "id": "synthetic-network",
   "metadata": {},
   "outputs": [
    {
     "name": "stdout",
     "output_type": "stream",
     "text": [
      "frozenset({'i', 'whenever', 'throughout', 'into', 'due', 'their', 'former', 'were', 'now', 'please', 'nobody', 'enough', 'about', 'any', 'someone', 'to', 'except', 'whereafter', 'seemed', 'thereupon', 'up', 'fifty', 'hereby', 'whence', 'himself', 'five', 'under', 'yet', 'around', 'upon', 'an', 'every', 'without', 'cannot', 'though', 'hereupon', 'fire', 'they', 'as', 'one', 'never', 'it', 'above', 'many', 'fifteen', 'four', 'sometimes', 'wherein', 'she', 'of', 'always', 'no', 'or', 'well', 'cry', 'ie', 'however', 'where', 'toward', 'a', 'who', 'found', 'latter', 'seeming', 'top', 'much', 'you', 'further', 'mill', 'move', 'others', 'together', 'out', 'beyond', 'since', 'becoming', 'her', 'towards', 'almost', 'was', 'him', 'hereafter', 'me', 'whether', 'which', 'etc', 'only', 'nevertheless', 'twelve', 'alone', 'may', 'take', 'onto', 'not', 'if', 'some', 'after', 'have', 'otherwise', 'three', 'whither', 'here', 'noone', 'can', 'over', 'several', 'beforehand', 'behind', 'became', 'bottom', 'afterwards', 'another', 'therein', 'same', 'until', 'other', 'hers', 're', 'all', 'whoever', 'its', 'perhaps', 'is', 'next', 'everywhere', 'per', 'fill', 'nor', 'third', 'sincere', 'thereby', 'although', 'ours', 'find', 'give', 'ourselves', 'get', 'nothing', 'herself', 'at', 'but', 'and', 'us', 'namely', 'anything', 'am', 'most', 'side', 'interest', 'will', 'describe', 'hasnt', 'twenty', 'full', 'been', 'neither', 'whose', 'below', 'mine', 'part', 'themselves', 'both', 'beside', 'anyhow', 'co', 'seems', 'once', 'why', 'via', 'amongst', 'each', 'bill', 'within', 'had', 'call', 'those', 'moreover', 'what', 'itself', 'anyway', 'thick', 'cant', 'by', 'that', 'least', 'with', 'show', 'your', 'back', 'rather', 'along', 'his', 'two', 'latterly', 'such', 'therefore', 'yourselves', 'because', 'empty', 'whereby', 'thereafter', 'myself', 'herein', 'besides', 'the', 'when', 'them', 'through', 'everything', 'might', 'somewhere', 'made', 'being', 'less', 'put', 'very', 'go', 'six', 'during', 'serious', 'amount', 'name', 'last', 'often', 'my', 'something', 'more', 'wherever', 'before', 'we', 'again', 'elsewhere', 'de', 'thin', 'our', 'off', 'first', 'still', 'eight', 'eleven', 'even', 'would', 'see', 'among', 'couldnt', 'nowhere', 'so', 'becomes', 'keep', 'ever', 'thence', 'anyone', 'done', 'whole', 'whereupon', 'sometime', 'yourself', 'un', 'formerly', 'hence', 'inc', 'from', 'somehow', 'too', 'could', 'ten', 'few', 'ltd', 'mostly', 'none', 'else', 'whatever', 'are', 'then', 'seem', 'between', 'thus', 'there', 'be', 'eg', 'do', 'down', 'meanwhile', 'he', 'sixty', 'thru', 'how', 'in', 'anywhere', 'against', 'front', 'this', 'has', 'system', 'already', 'whom', 'hundred', 'these', 'also', 'own', 'indeed', 'on', 'across', 'everyone', 'forty', 'con', 'become', 'while', 'yours', 'either', 'whereas', 'for', 'detail', 'should', 'amoungst', 'nine', 'than', 'must'})\n"
     ]
    }
   ],
   "source": [
    "from sklearn.feature_extraction import text\n",
    "print(text.ENGLISH_STOP_WORDS)\n",
    "\n",
    "stopwords = ['i', 'whenever', 'throughout', 'into', 'due', 'their', 'former', 'were', 'now', 'please', 'nobody', 'enough', 'about', 'any', 'someone', 'to', 'except', 'whereafter', 'seemed', 'thereupon', 'up', 'fifty', 'hereby', 'whence', 'himself', 'five', 'under', 'yet', 'around', 'upon', 'an', 'every', 'without', 'cannot', 'though', 'hereupon', 'fire', 'they', 'as', 'one', 'never', 'it', 'above', 'many', 'fifteen', 'four', 'sometimes', 'wherein', 'she', 'of', 'always', 'no', 'or', 'well', 'cry', 'ie', 'however', 'where', 'toward', 'a', 'who', 'found', 'latter', 'seeming', 'top', 'much', 'you', 'further', 'mill', 'move', 'others', 'together', 'out', 'beyond', 'since', 'becoming', 'her', 'towards', 'almost', 'was', 'him', 'hereafter', 'me', 'whether', 'which', 'etc', 'only', 'nevertheless', 'twelve', 'alone', 'may', 'take', 'onto', 'not', 'if', 'some', 'after', 'have', 'otherwise', 'three', 'whither', 'here', 'noone', 'can', 'over', 'several', 'beforehand', 'behind', 'became', 'bottom', 'afterwards', 'another', 'therein', 'same', 'until', 'other', 'hers', 're', 'all', 'whoever', 'its', 'perhaps', 'is', 'next', 'everywhere', 'per', 'fill', 'nor', 'third', 'sincere', 'thereby', 'although', 'ours', 'find', 'give', 'ourselves', 'get', 'nothing', 'herself', 'at', 'but', 'and', 'us', 'namely', 'anything', 'am', 'most', 'side', 'interest', 'will', 'describe', 'hasnt', 'twenty', 'full', 'been', 'neither', 'whose', 'below', 'mine', 'part', 'themselves', 'both', 'beside', 'anyhow', 'co', 'seems', 'once', 'why', 'via', 'amongst', 'each', 'bill', 'within', 'had', 'call', 'those', 'moreover', 'what', 'itself', 'anyway', 'thick', 'cant', 'by', 'that', 'least', 'with', 'show', 'your', 'back', 'rather', 'along', 'his', 'two', 'latterly', 'such', 'therefore', 'yourselves', 'because', 'empty', 'whereby', 'thereafter', 'myself', 'herein', 'besides', 'the', 'when', 'them', 'through', 'everything', 'might', 'somewhere', 'made', 'being', 'less', 'put', 'very', 'go', 'six', 'during', 'serious', 'amount', 'name', 'last', 'often', 'my', 'something', 'more', 'wherever', 'before', 'we', 'again', 'elsewhere', 'de', 'thin', 'our', 'off', 'first', 'still', 'eight', 'eleven', 'even', 'would', 'see', 'among', 'couldnt', 'nowhere', 'so', 'becomes', 'keep', 'ever', 'thence', 'anyone', 'done', 'whole', 'whereupon', 'sometime', 'yourself', 'un', 'formerly', 'hence', 'inc', 'from', 'somehow', 'too', 'could', 'ten', 'few', 'ltd', 'mostly', 'none', 'else', 'whatever', 'are', 'then', 'seem', 'between', 'thus', 'there', 'be', 'eg', 'do', 'down', 'meanwhile', 'he', 'sixty', 'thru', 'how', 'in', 'anywhere', 'against', 'front', 'this', 'has', 'system', 'already', 'whom', 'hundred', 'these', 'also', 'own', 'indeed', 'on', 'across', 'everyone', 'forty', 'con', 'become', 'while', 'yours', 'either', 'whereas', 'for', 'detail', 'should', 'amoungst', 'nine', 'than', 'must']\n"
   ]
  },
  {
   "cell_type": "markdown",
   "id": "accomplished-metro",
   "metadata": {},
   "source": [
    "# SVC"
   ]
  },
  {
   "cell_type": "code",
   "execution_count": 7,
   "id": "cheap-stadium",
   "metadata": {},
   "outputs": [
    {
     "data": {
      "text/plain": [
       "Pipeline(steps=[('tfidf',\n",
       "                 TfidfVectorizer(stop_words=['i', 'whenever', 'throughout',\n",
       "                                             'into', 'due', 'their', 'former',\n",
       "                                             'were', 'now', 'please', 'nobody',\n",
       "                                             'enough', 'about', 'any',\n",
       "                                             'someone', 'to', 'except',\n",
       "                                             'whereafter', 'seemed',\n",
       "                                             'thereupon', 'up', 'fifty',\n",
       "                                             'hereby', 'whence', 'himself',\n",
       "                                             'five', 'under', 'yet', 'around',\n",
       "                                             'upon', ...])),\n",
       "                ('clf', LinearSVC())])"
      ]
     },
     "execution_count": 7,
     "metadata": {},
     "output_type": "execute_result"
    }
   ],
   "source": [
    "# RUN THIS CELL TO ADD STOPWORDS TO THE LINEAR SVC PIPELINE:\n",
    "text_clf_lsvc2 = Pipeline([('tfidf', TfidfVectorizer(stop_words=stopwords)),\n",
    "                     ('clf', LinearSVC()),\n",
    "])\n",
    "text_clf_lsvc2.fit(X_train, y_train)\n",
    "\n",
    "predictions = text_clf_lsvc2.predict(X_test)\n",
    "print(metrics.confusion_matrix(y_test,predictions))\n",
    "\n",
    "print(metrics.classification_report(y_test,predictions))\n",
    "\n",
    "print(metrics.accuracy_score(y_test,predictions))"
   ]
  },
  {
   "cell_type": "markdown",
   "id": "parallel-integral",
   "metadata": {},
   "source": [
    "# Naive Bayes"
   ]
  },
  {
   "cell_type": "code",
   "execution_count": 12,
   "id": "fresh-twenty",
   "metadata": {},
   "outputs": [
    {
     "data": {
      "text/plain": [
       "Pipeline(steps=[('tfidf',\n",
       "                 TfidfVectorizer(stop_words=['i', 'whenever', 'throughout',\n",
       "                                             'into', 'due', 'their', 'former',\n",
       "                                             'were', 'now', 'please', 'nobody',\n",
       "                                             'enough', 'about', 'any',\n",
       "                                             'someone', 'to', 'except',\n",
       "                                             'whereafter', 'seemed',\n",
       "                                             'thereupon', 'up', 'fifty',\n",
       "                                             'hereby', 'whence', 'himself',\n",
       "                                             'five', 'under', 'yet', 'around',\n",
       "                                             'upon', ...])),\n",
       "                ('clf', MultinomialNB())])"
      ]
     },
     "execution_count": 12,
     "metadata": {},
     "output_type": "execute_result"
    }
   ],
   "source": [
    "# Naïve Bayes Model:\n",
    "text_clf_nb = Pipeline([('tfidf', TfidfVectorizer(stop_words=stopwords)),\n",
    "                     ('clf', MultinomialNB()),\n",
    "])\n",
    "\n",
    "# Train both models on the moviereviews.tsv training set:\n",
    "text_clf_nb.fit(X_train, y_train)\n",
    "\n",
    "# Form a prediction set\n",
    "predictions = text_clf_nb.predict(X_test)\n",
    "\n",
    "# Report the confusion matrix\n",
    "from sklearn import metrics\n",
    "print(metrics.confusion_matrix(y_test,predictions))\n",
    "\n",
    "# Print a classification report\n",
    "print(metrics.classification_report(y_test,predictions))\n",
    "\n",
    "# Print the overall accuracy\n",
    "print(metrics.accuracy_score(y_test,predictions))"
   ]
  },
  {
   "cell_type": "markdown",
   "id": "compatible-visit",
   "metadata": {},
   "source": [
    "# Testing"
   ]
  },
  {
   "cell_type": "code",
   "execution_count": 21,
   "id": "experienced-pontiac",
   "metadata": {},
   "outputs": [],
   "source": [
    "myreview = \"Movie had a dull start. Story of the film spread a message of criticised person on the planet. Though it had good \\\n",
    "effects and 3d graphics but the main intent was hidden. \"\n",
    "\n",
    "print(text_clf_nb.predict([myreview]))  # be sure to put \"myreview\" inside square brackets\n",
    "\n",
    "print(text_clf_lsvc2.predict([myreview]))"
   ]
  },
  {
   "cell_type": "code",
   "execution_count": null,
   "id": "nominated-router",
   "metadata": {},
   "outputs": [],
   "source": []
  }
 ],
 "metadata": {
  "kernelspec": {
   "display_name": "Python 3",
   "language": "python",
   "name": "python3"
  },
  "language_info": {
   "codemirror_mode": {
    "name": "ipython",
    "version": 3
   },
   "file_extension": ".py",
   "mimetype": "text/x-python",
   "name": "python",
   "nbconvert_exporter": "python",
   "pygments_lexer": "ipython3",
   "version": "3.7.9"
  }
 },
 "nbformat": 4,
 "nbformat_minor": 5
}
